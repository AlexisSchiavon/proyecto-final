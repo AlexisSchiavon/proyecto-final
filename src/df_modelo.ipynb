{
 "cells": [
  {
   "cell_type": "code",
   "execution_count": 1,
   "id": "11fab1f6",
   "metadata": {},
   "outputs": [],
   "source": [
    "import pandas as pd\n",
    "from sklearn.preprocessing import StandardScaler, OneHotEncoder  "
   ]
  },
  {
   "cell_type": "code",
   "execution_count": 2,
   "id": "7b45333f",
   "metadata": {},
   "outputs": [],
   "source": [
    "df = pd.read_csv(\"santander_limpio_filtrado_y_data_engeniering.csv\")"
   ]
  },
  {
   "cell_type": "code",
   "execution_count": 3,
   "id": "8d868632",
   "metadata": {},
   "outputs": [
    {
     "data": {
      "text/plain": [
       "(319400, 22)"
      ]
     },
     "execution_count": 3,
     "metadata": {},
     "output_type": "execute_result"
    }
   ],
   "source": [
    "df.shape"
   ]
  },
  {
   "cell_type": "code",
   "execution_count": 4,
   "id": "08e10964",
   "metadata": {},
   "outputs": [],
   "source": [
    "from sklearn.preprocessing import LabelEncoder\n",
    "\n",
    "encoder = LabelEncoder()\n",
    "\n",
    "df['sexo_n'] = encoder.fit_transform(df['sexo'])\n",
    "\n",
    "df['canal_entrada_n'] = encoder.fit_transform(df['canal_entrada'])\n",
    "\n",
    "df['segmento_n'] = encoder.fit_transform(df['segmento'])"
   ]
  },
  {
   "cell_type": "code",
   "execution_count": 5,
   "id": "e9f16fde",
   "metadata": {},
   "outputs": [
    {
     "data": {
      "text/plain": [
       "Index(['sexo', 'age', 'antiguedad', 'canal_entrada', 'renta', 'segmento',\n",
       "       'cuenta_ahorros', 'cuenta_corriente', 'credito_rapido', 'cuenta_nomina',\n",
       "       'cuenta_joven', 'cuenta_adulto_mayor', 'cuenta_apertura',\n",
       "       'cuenta_pagos', 'cuenta_debitos', 'deposito_largo_plazo', 'ecuenta',\n",
       "       'hipotecas', 'ahorro_programado', 'prestamo_libre_inversion',\n",
       "       'tarjeta_credito', 'credito_vivienda', 'sexo_n', 'canal_entrada_n',\n",
       "       'segmento_n'],\n",
       "      dtype='object')"
      ]
     },
     "execution_count": 5,
     "metadata": {},
     "output_type": "execute_result"
    }
   ],
   "source": [
    "df.columns"
   ]
  },
  {
   "cell_type": "code",
   "execution_count": 6,
   "id": "a1bdb896",
   "metadata": {},
   "outputs": [
    {
     "name": "stdout",
     "output_type": "stream",
     "text": [
      "Variables de tipo fecha:\n",
      "[]\n",
      "Variables categóricas:\n",
      "['sexo', 'canal_entrada', 'segmento']\n",
      "Variables numéricas:\n",
      "['age', 'antiguedad', 'renta', 'cuenta_ahorros', 'cuenta_corriente', 'credito_rapido', 'cuenta_nomina', 'cuenta_joven', 'cuenta_adulto_mayor', 'cuenta_apertura', 'cuenta_pagos', 'cuenta_debitos', 'deposito_largo_plazo', 'ecuenta', 'hipotecas', 'ahorro_programado', 'prestamo_libre_inversion', 'tarjeta_credito', 'credito_vivienda', 'sexo_n', 'canal_entrada_n', 'segmento_n']\n"
     ]
    }
   ],
   "source": [
    "var_categoricas_2 = []\n",
    "var_numericas_2 = []\n",
    "var_fechas_2 = []\n",
    "\n",
    "for col in df.columns:\n",
    "    if pd.api.types.is_datetime64_any_dtype(df[col]):\n",
    "        var_fechas_2.append(col)\n",
    "    elif pd.api.types.is_numeric_dtype(df[col]):\n",
    "        var_numericas_2.append(col)\n",
    "    elif df[col].dtype == 'object':\n",
    "        var_categoricas_2.append(col)\n",
    "\n",
    "print(\"Variables de tipo fecha:\")\n",
    "print(var_fechas_2)\n",
    "\n",
    "print(\"Variables categóricas:\")\n",
    "print(var_categoricas_2)\n",
    "\n",
    "print(\"Variables numéricas:\")\n",
    "print(var_numericas_2)"
   ]
  },
  {
   "cell_type": "code",
   "execution_count": 7,
   "id": "2f3e67ec",
   "metadata": {},
   "outputs": [],
   "source": [
    "df.drop(['sexo', 'canal_entrada', 'segmento'], axis=1, inplace=True)"
   ]
  },
  {
   "cell_type": "code",
   "execution_count": 8,
   "id": "cd025db9",
   "metadata": {},
   "outputs": [
    {
     "name": "stdout",
     "output_type": "stream",
     "text": [
      "{'tarjeta_credito', 'deposito_largo_plazo', 'ecuenta'}\n",
      "set()\n"
     ]
    }
   ],
   "source": [
    "targets = ['tarjeta_credito', 'ecuenta', 'deposito_largo_plazo']\n",
    "print(set(var_numericas_2) & set(targets))\n",
    "\n",
    "var_numericas_2 = [col for col in var_numericas_2 if col not in targets] # asegura que no estén las target \n",
    "print(set(var_numericas_2) & set(targets))\n"
   ]
  },
  {
   "cell_type": "code",
   "execution_count": 9,
   "id": "c34ce3b0",
   "metadata": {},
   "outputs": [],
   "source": [
    "scaler = StandardScaler()\n",
    "df[var_numericas_2] = scaler.fit_transform(df[var_numericas_2])"
   ]
  },
  {
   "cell_type": "code",
   "execution_count": 10,
   "id": "f9b67dd2",
   "metadata": {},
   "outputs": [],
   "source": [
    "X = df.drop(columns=targets)\n",
    "y = df[targets].astype(int)  # aseguramos enteros"
   ]
  },
  {
   "cell_type": "code",
   "execution_count": 11,
   "id": "6ee39115",
   "metadata": {},
   "outputs": [
    {
     "data": {
      "text/plain": [
       "['age',\n",
       " 'antiguedad',\n",
       " 'renta',\n",
       " 'cuenta_ahorros',\n",
       " 'cuenta_corriente',\n",
       " 'credito_rapido',\n",
       " 'cuenta_nomina',\n",
       " 'cuenta_joven',\n",
       " 'cuenta_adulto_mayor',\n",
       " 'cuenta_apertura',\n",
       " 'cuenta_pagos',\n",
       " 'cuenta_debitos',\n",
       " 'hipotecas',\n",
       " 'ahorro_programado',\n",
       " 'prestamo_libre_inversion',\n",
       " 'credito_vivienda',\n",
       " 'sexo_n',\n",
       " 'canal_entrada_n',\n",
       " 'segmento_n']"
      ]
     },
     "execution_count": 11,
     "metadata": {},
     "output_type": "execute_result"
    }
   ],
   "source": [
    "list(X.columns)"
   ]
  },
  {
   "cell_type": "code",
   "execution_count": 12,
   "id": "e9fd99bf",
   "metadata": {},
   "outputs": [
    {
     "data": {
      "text/html": [
       "<div>\n",
       "<style scoped>\n",
       "    .dataframe tbody tr th:only-of-type {\n",
       "        vertical-align: middle;\n",
       "    }\n",
       "\n",
       "    .dataframe tbody tr th {\n",
       "        vertical-align: top;\n",
       "    }\n",
       "\n",
       "    .dataframe thead th {\n",
       "        text-align: right;\n",
       "    }\n",
       "</style>\n",
       "<table border=\"1\" class=\"dataframe\">\n",
       "  <thead>\n",
       "    <tr style=\"text-align: right;\">\n",
       "      <th></th>\n",
       "      <th>tarjeta_credito</th>\n",
       "      <th>ecuenta</th>\n",
       "      <th>deposito_largo_plazo</th>\n",
       "    </tr>\n",
       "  </thead>\n",
       "  <tbody>\n",
       "    <tr>\n",
       "      <th>0</th>\n",
       "      <td>0</td>\n",
       "      <td>1</td>\n",
       "      <td>0</td>\n",
       "    </tr>\n",
       "    <tr>\n",
       "      <th>1</th>\n",
       "      <td>0</td>\n",
       "      <td>1</td>\n",
       "      <td>0</td>\n",
       "    </tr>\n",
       "    <tr>\n",
       "      <th>2</th>\n",
       "      <td>1</td>\n",
       "      <td>0</td>\n",
       "      <td>0</td>\n",
       "    </tr>\n",
       "    <tr>\n",
       "      <th>3</th>\n",
       "      <td>0</td>\n",
       "      <td>1</td>\n",
       "      <td>0</td>\n",
       "    </tr>\n",
       "    <tr>\n",
       "      <th>4</th>\n",
       "      <td>0</td>\n",
       "      <td>1</td>\n",
       "      <td>0</td>\n",
       "    </tr>\n",
       "    <tr>\n",
       "      <th>...</th>\n",
       "      <td>...</td>\n",
       "      <td>...</td>\n",
       "      <td>...</td>\n",
       "    </tr>\n",
       "    <tr>\n",
       "      <th>319395</th>\n",
       "      <td>0</td>\n",
       "      <td>1</td>\n",
       "      <td>0</td>\n",
       "    </tr>\n",
       "    <tr>\n",
       "      <th>319396</th>\n",
       "      <td>0</td>\n",
       "      <td>1</td>\n",
       "      <td>0</td>\n",
       "    </tr>\n",
       "    <tr>\n",
       "      <th>319397</th>\n",
       "      <td>1</td>\n",
       "      <td>0</td>\n",
       "      <td>0</td>\n",
       "    </tr>\n",
       "    <tr>\n",
       "      <th>319398</th>\n",
       "      <td>1</td>\n",
       "      <td>1</td>\n",
       "      <td>0</td>\n",
       "    </tr>\n",
       "    <tr>\n",
       "      <th>319399</th>\n",
       "      <td>0</td>\n",
       "      <td>1</td>\n",
       "      <td>0</td>\n",
       "    </tr>\n",
       "  </tbody>\n",
       "</table>\n",
       "<p>319400 rows × 3 columns</p>\n",
       "</div>"
      ],
      "text/plain": [
       "        tarjeta_credito  ecuenta  deposito_largo_plazo\n",
       "0                     0        1                     0\n",
       "1                     0        1                     0\n",
       "2                     1        0                     0\n",
       "3                     0        1                     0\n",
       "4                     0        1                     0\n",
       "...                 ...      ...                   ...\n",
       "319395                0        1                     0\n",
       "319396                0        1                     0\n",
       "319397                1        0                     0\n",
       "319398                1        1                     0\n",
       "319399                0        1                     0\n",
       "\n",
       "[319400 rows x 3 columns]"
      ]
     },
     "execution_count": 12,
     "metadata": {},
     "output_type": "execute_result"
    }
   ],
   "source": [
    "y"
   ]
  },
  {
   "cell_type": "code",
   "execution_count": 13,
   "id": "2ac6d54d",
   "metadata": {},
   "outputs": [
    {
     "name": "stdout",
     "output_type": "stream",
     "text": [
      "\n",
      "📌 Resultados para: tarjeta_credito\n",
      "              precision    recall  f1-score   support\n",
      "\n",
      "           0       0.78      0.86      0.82     43212\n",
      "           1       0.63      0.49      0.55     20668\n",
      "\n",
      "    accuracy                           0.74     63880\n",
      "   macro avg       0.70      0.67      0.68     63880\n",
      "weighted avg       0.73      0.74      0.73     63880\n",
      "\n",
      "\n",
      "📌 Resultados para: ecuenta\n",
      "              precision    recall  f1-score   support\n",
      "\n",
      "           0       0.61      0.48      0.54     22569\n",
      "           1       0.75      0.84      0.79     41311\n",
      "\n",
      "    accuracy                           0.71     63880\n",
      "   macro avg       0.68      0.66      0.66     63880\n",
      "weighted avg       0.70      0.71      0.70     63880\n",
      "\n",
      "\n",
      "📌 Resultados para: deposito_largo_plazo\n",
      "              precision    recall  f1-score   support\n",
      "\n",
      "           0       0.80      0.92      0.85     44598\n",
      "           1       0.71      0.45      0.55     19282\n",
      "\n",
      "    accuracy                           0.78     63880\n",
      "   macro avg       0.75      0.69      0.70     63880\n",
      "weighted avg       0.77      0.78      0.76     63880\n",
      "\n"
     ]
    }
   ],
   "source": [
    "from sklearn.multioutput import MultiOutputClassifier\n",
    "from sklearn.ensemble import RandomForestClassifier\n",
    "from sklearn.linear_model import LogisticRegression\n",
    "from sklearn.tree import DecisionTreeClassifier\n",
    "from xgboost import XGBClassifier  \n",
    "from sklearn.model_selection import train_test_split\n",
    "from sklearn.metrics import classification_report\n",
    "import pandas as pd\n",
    "\n",
    "\n",
    "X_train, X_test, y_train, y_test = train_test_split(X, y, test_size=0.2, random_state=42)\n",
    "\n",
    "\n",
    "modelo_base = XGBClassifier(n_estimators=100, learning_rate=0.1, eval_metric='logloss')\n",
    "\n",
    "# 4. Entrenamiento con Multi-output wrapper\n",
    "# ---------------------------\n",
    "modelo_multi = MultiOutputClassifier(estimator=modelo_base)\n",
    "modelo_multi.fit(X_train, y_train)\n",
    "\n",
    "\n",
    "# # ---------------------------\n",
    "# # 6. Predicción y evaluación\n",
    "# # ---------------------------\n",
    "y_pred = modelo_multi.predict(X_test)\n",
    "\n",
    "# # Reporte para cada variable objetivo\n",
    "for i, target in enumerate(targets):\n",
    "    print(f\"\\n📌 Resultados para: {target}\")\n",
    "    print(classification_report(y_test[target], y_pred[:, i], zero_division=1))\n",
    "\n",
    "\n"
   ]
  },
  {
   "cell_type": "code",
   "execution_count": 14,
   "id": "3e64b502",
   "metadata": {},
   "outputs": [
    {
     "name": "stdout",
     "output_type": "stream",
     "text": [
      "(255520, 19)\n",
      "(63880, 19)\n",
      "(255520, 3)\n",
      "(63880, 3)\n"
     ]
    }
   ],
   "source": [
    "print(X_train.shape)\n",
    "print(X_test.shape)\n",
    "print(y_train.shape)\n",
    "print(y_test.shape)"
   ]
  },
  {
   "cell_type": "code",
   "execution_count": null,
   "id": "a3e40741",
   "metadata": {},
   "outputs": [],
   "source": [
    "import pickle\n",
    "\n",
    "with open('modelo_xgb_v1.pkl', 'wb') as f:\n",
    "    pickle.dump({\n",
    "        'modelo': modelo_multi,\n",
    "        'targets': targets,\n",
    "        'features': X.columns.tolist()\n",
    "    }, f)"
   ]
  },
  {
   "cell_type": "markdown",
   "id": "25ff5ef0",
   "metadata": {},
   "source": [
    "## RandomizedSearchCV"
   ]
  },
  {
   "cell_type": "code",
   "execution_count": 15,
   "id": "038972fa",
   "metadata": {},
   "outputs": [
    {
     "name": "stdout",
     "output_type": "stream",
     "text": [
      "Fitting 3 folds for each of 5 candidates, totalling 15 fits\n"
     ]
    },
    {
     "name": "stderr",
     "output_type": "stream",
     "text": [
      "/home/sytic/miniconda3/envs/data-science/lib/python3.8/site-packages/joblib/externals/loky/process_executor.py:752: UserWarning: A worker stopped while some jobs were given to the executor. This can be caused by a too short worker timeout or by a memory leak.\n",
      "  warnings.warn(\n"
     ]
    },
    {
     "name": "stdout",
     "output_type": "stream",
     "text": [
      "Mejores hiperparámetros encontrados:\n",
      "{'estimator__subsample': 0.6, 'estimator__scale_pos_weight': 1, 'estimator__n_estimators': 500, 'estimator__max_depth': 30, 'estimator__learning_rate': 0.1, 'estimator__gamma': 0.1, 'estimator__colsample_bytree': 0.8}\n",
      "Mejor f1_score promedio: 0.8483998579137636\n"
     ]
    }
   ],
   "source": [
    "from scipy.stats import randint\n",
    "import numpy as np\n",
    "from sklearn.model_selection import RandomizedSearchCV\n",
    "\n",
    "\n",
    "xg_rsv = {\"estimator__n_estimators\": np.arange(100, 600, 100),\n",
    "          \"estimator__max_depth\": [3, 5, 10, 15, 20, 30],\n",
    "          \"estimator__learning_rate\": [0.01, 0.1, 0.5, 1], \n",
    "          \"estimator__gamma\": [0, 0.1, 0.4],\n",
    "          \"estimator__subsample\": [0.6, 0.8],\n",
    "          \"estimator__colsample_bytree\": [0.6, 0.8, 1.0],\n",
    "          \"estimator__scale_pos_weight\": [1, 1.5, 1.87, 2, 3]\n",
    "}\n",
    "# Crear el modelo base\n",
    "# rf_model = RandomForestClassifier(random_state=42)\n",
    "# multi_rf = MultiOutputClassifier(modelo_base)\n",
    "\n",
    "# multi_xgb = MultiOutputClassifier(modelo_base)\n",
    "\n",
    "# Optimización con RandomizedSearchCV\n",
    "# XGBClassifier\n",
    "xg_model = RandomizedSearchCV(\n",
    "    estimator=modelo_multi,\n",
    "    param_distributions=xg_rsv,\n",
    "    scoring=\"f1_micro\",\n",
    "    n_iter=5,        # Reducido\n",
    "    cv=3,            # Reducido\n",
    "    n_jobs=3,        # Importante: solo 1 job\n",
    "    verbose=True,\n",
    "    random_state=42\n",
    ")\n",
    "\n",
    "# Ajustar el modelo\n",
    "xg_model.fit(X_train, y_train)\n",
    "\n",
    "\n",
    "print(\"Mejores hiperparámetros encontrados:\")\n",
    "print(xg_model.best_params_)\n",
    "print(\"Mejor f1_score promedio:\", xg_model.best_score_)"
   ]
  },
  {
   "cell_type": "code",
   "execution_count": 16,
   "id": "e8eb7c2e",
   "metadata": {},
   "outputs": [
    {
     "name": "stdout",
     "output_type": "stream",
     "text": [
      "\n",
      "📌 Resultados para: tarjeta_credito\n",
      "              precision    recall  f1-score   support\n",
      "\n",
      "           0       0.91      0.94      0.93     43212\n",
      "           1       0.87      0.82      0.84     20668\n",
      "\n",
      "    accuracy                           0.90     63880\n",
      "   macro avg       0.89      0.88      0.89     63880\n",
      "weighted avg       0.90      0.90      0.90     63880\n",
      "\n",
      "\n",
      "📌 Resultados para: ecuenta\n",
      "              precision    recall  f1-score   support\n",
      "\n",
      "           0       0.91      0.86      0.89     22569\n",
      "           1       0.93      0.95      0.94     41311\n",
      "\n",
      "    accuracy                           0.92     63880\n",
      "   macro avg       0.92      0.91      0.91     63880\n",
      "weighted avg       0.92      0.92      0.92     63880\n",
      "\n",
      "\n",
      "📌 Resultados para: deposito_largo_plazo\n",
      "              precision    recall  f1-score   support\n",
      "\n",
      "           0       0.94      0.97      0.96     44598\n",
      "           1       0.92      0.87      0.89     19282\n",
      "\n",
      "    accuracy                           0.94     63880\n",
      "   macro avg       0.93      0.92      0.92     63880\n",
      "weighted avg       0.94      0.94      0.94     63880\n",
      "\n"
     ]
    }
   ],
   "source": [
    "best_model = xg_model.best_estimator_\n",
    "\n",
    "# Hacer predicciones en el conjunto de prueba\n",
    "y_best_pred = best_model.predict(X_test)\n",
    "\n",
    "# Evaluar\n",
    "\n",
    "for i, target in enumerate(targets):\n",
    "    print(f\"\\n📌 Resultados para: {target}\")\n",
    "    print(classification_report(y_test[target], y_best_pred[:, i], zero_division=1))"
   ]
  },
  {
   "cell_type": "code",
   "execution_count": 23,
   "id": "93d7e830",
   "metadata": {},
   "outputs": [],
   "source": [
    "import joblib\n",
    "modelo_completo = {\n",
    "    'modelo': xg_model.best_estimator_,\n",
    "    'features': X.columns.tolist(),\n",
    "    'targets': targets,\n",
    "}\n",
    "\n",
    "# Guardar con nombre descriptivo\n",
    "nombre_archivo = f'modelo_xgb_optimizado_final.pkl'\n",
    "\n",
    "with open(nombre_archivo, 'wb') as f:\n",
    "    joblib.dump(modelo_completo, f, compress=9)"
   ]
  },
  {
   "cell_type": "code",
   "execution_count": null,
   "id": "d1919f08",
   "metadata": {},
   "outputs": [],
   "source": []
  }
 ],
 "metadata": {
  "kernelspec": {
   "display_name": "data-science",
   "language": "python",
   "name": "python3"
  },
  "language_info": {
   "codemirror_mode": {
    "name": "ipython",
    "version": 3
   },
   "file_extension": ".py",
   "mimetype": "text/x-python",
   "name": "python",
   "nbconvert_exporter": "python",
   "pygments_lexer": "ipython3",
   "version": "3.8.20"
  }
 },
 "nbformat": 4,
 "nbformat_minor": 5
}
